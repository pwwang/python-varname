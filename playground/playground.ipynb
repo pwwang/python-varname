{
 "cells": [
  {
   "cell_type": "markdown",
   "metadata": {},
   "source": [
    "# `python-varname` playground"
   ]
  },
  {
   "cell_type": "code",
   "execution_count": 25,
   "metadata": {},
   "outputs": [],
   "source": [
    "import functools\n",
    "from contextlib import contextmanager\n",
    "\n",
    "from varname import (\n",
    "    varname, nameof, will, \n",
    "    config, \n",
    "    VarnameRetrievingError, QualnameNonUniqueError\n",
    ")\n",
    "from varname.helpers import Wrapper, register, debug\n",
    "\n",
    "@contextmanager\n",
    "def enable_debug():\n",
    "    try:\n",
    "        config.debug = True\n",
    "        yield\n",
    "    finally:\n",
    "        config.debug = False\n",
    "\n",
    "@contextmanager\n",
    "def expect_raising(error):\n",
    "    try:\n",
    "        yield\n",
    "    except error as exc:\n",
    "        print(f'{error.__name__}({exc}) raised!')\n",
    "    else:\n",
    "        raise Exception(f'{error.__name__!r} NOT raised!')"
   ]
  },
  {
   "cell_type": "markdown",
   "metadata": {},
   "source": [
    "## Usage of `varname`"
   ]
  },
  {
   "cell_type": "markdown",
   "metadata": {},
   "source": [
    "### Basic usage"
   ]
  },
  {
   "cell_type": "code",
   "execution_count": 26,
   "metadata": {},
   "outputs": [
    {
     "output_type": "execute_result",
     "data": {
      "text/plain": [
       "'f'"
      ]
     },
     "metadata": {},
     "execution_count": 26
    }
   ],
   "source": [
    "def func():\n",
    "    return varname()\n",
    "\n",
    "f = func()\n",
    "f"
   ]
  },
  {
   "cell_type": "code",
   "execution_count": 27,
   "metadata": {},
   "outputs": [
    {
     "output_type": "execute_result",
     "data": {
      "text/plain": [
       "'foo'"
      ]
     },
     "metadata": {},
     "execution_count": 27
    }
   ],
   "source": [
    "class Foo:\n",
    "    def __init__(self):\n",
    "        self.id = varname()\n",
    "        \n",
    "foo = Foo()\n",
    "foo.id"
   ]
  },
  {
   "source": [
    "### Some unusual tweaks"
   ],
   "cell_type": "markdown",
   "metadata": {}
  },
  {
   "cell_type": "code",
   "execution_count": 28,
   "metadata": {},
   "outputs": [
    {
     "output_type": "stream",
     "name": "stdout",
     "text": [
      "1 func\n2 ['func']\n3 ['func', 'func']\n4 ('func',)\n5 ('func', 'func')\n6 func\n7 func\n"
     ]
    }
   ],
   "source": [
    "def function():\n",
    "    return varname()\n",
    "\n",
    "func = function()\n",
    "print(1, func)\n",
    "\n",
    "func = [function()]\n",
    "print(2, func)\n",
    "\n",
    "func = [function(), function()]\n",
    "print(3, func)\n",
    "\n",
    "func = (function(), )\n",
    "print(4, func)\n",
    "\n",
    "func = (function(), function())\n",
    "print(5, func)\n",
    "\n",
    "func_suffix = function()[:-7]\n",
    "print(6, func_suffix)\n",
    "\n",
    "alias = function\n",
    "func = alias()\n",
    "print(7, func)"
   ]
  },
  {
   "cell_type": "markdown",
   "metadata": {},
   "source": [
    "### `varname` not called directly"
   ]
  },
  {
   "cell_type": "code",
   "execution_count": 29,
   "metadata": {},
   "outputs": [
    {
     "output_type": "execute_result",
     "data": {
      "text/plain": [
       "'f'"
      ]
     },
     "metadata": {},
     "execution_count": 29
    }
   ],
   "source": [
    "def func():\n",
    "    return varname(frame=2)\n",
    "\n",
    "def func2():\n",
    "    return func()\n",
    "\n",
    "f = func2()\n",
    "f"
   ]
  },
  {
   "cell_type": "code",
   "execution_count": 30,
   "metadata": {},
   "outputs": [
    {
     "output_type": "execute_result",
     "data": {
      "text/plain": [
       "'foo'"
      ]
     },
     "metadata": {},
     "execution_count": 30
    }
   ],
   "source": [
    "class Foo:\n",
    "    def __init__(self):\n",
    "        self.id = varname(frame=2)\n",
    "        \n",
    "def wrapper():\n",
    "    return Foo()\n",
    "        \n",
    "foo = wrapper()\n",
    "foo.id"
   ]
  },
  {
   "cell_type": "markdown",
   "metadata": {},
   "source": [
    "### Using `ignore` argument to ignore intermediate calls"
   ]
  },
  {
   "cell_type": "code",
   "execution_count": 31,
   "metadata": {},
   "outputs": [
    {
     "output_type": "execute_result",
     "data": {
      "text/plain": [
       "'f'"
      ]
     },
     "metadata": {},
     "execution_count": 31
    }
   ],
   "source": [
    "def func():\n",
    "    return varname(ignore=func2)\n",
    "\n",
    "def func2():\n",
    "    return func()\n",
    "\n",
    "f = func2()\n",
    "f"
   ]
  },
  {
   "source": [
    "You can also use a tuple of module and the qualified name of the function"
   ],
   "cell_type": "markdown",
   "metadata": {}
  },
  {
   "cell_type": "code",
   "execution_count": 32,
   "metadata": {},
   "outputs": [
    {
     "output_type": "execute_result",
     "data": {
      "text/plain": [
       "'f'"
      ]
     },
     "metadata": {},
     "execution_count": 32
    }
   ],
   "source": [
    "import __main__\n",
    "\n",
    "def func():\n",
    "    return varname(ignore=(__main__, 'func2'))\n",
    "\n",
    "def func2():\n",
    "    return func()\n",
    "\n",
    "f = func2()\n",
    "f"
   ]
  },
  {
   "cell_type": "markdown",
   "metadata": {},
   "source": [
    "Pay attention to decorated functions:"
   ]
  },
  {
   "cell_type": "code",
   "execution_count": 33,
   "metadata": {},
   "outputs": [
    {
     "output_type": "stream",
     "name": "stdout",
     "text": [
      "VarnameRetrievingError(Failed to retrieve the variable name.) raised!\n"
     ]
    }
   ],
   "source": [
    "def decor(f):\n",
    "    def wrapper():\n",
    "        return f()\n",
    "    return wrapper\n",
    "\n",
    "def func():\n",
    "    return varname(ignore=func2)\n",
    "\n",
    "@decor\n",
    "def func2():\n",
    "    return func()\n",
    "\n",
    "with expect_raising(VarnameRetrievingError):\n",
    "    f = func2()\n",
    "\n"
   ]
  },
  {
   "cell_type": "code",
   "execution_count": 34,
   "metadata": {},
   "outputs": [
    {
     "output_type": "execute_result",
     "data": {
      "text/plain": [
       "'f'"
      ]
     },
     "metadata": {},
     "execution_count": 34
    }
   ],
   "source": [
    "def decor(f):\n",
    "    def wrapper():\n",
    "        return f()\n",
    "    return wrapper\n",
    "\n",
    "def func():\n",
    "    # tell varname that func2 has 1 decorator\n",
    "    return varname(ignore=(func2, 1))\n",
    "\n",
    "@decor\n",
    "def func2():\n",
    "    return func()\n",
    "\n",
    "f = func2()\n",
    "f"
   ]
  },
  {
   "source": [
    "Ignore calls from an entire module and its submodules"
   ],
   "cell_type": "markdown",
   "metadata": {}
  },
  {
   "cell_type": "code",
   "execution_count": 35,
   "metadata": {},
   "outputs": [
    {
     "output_type": "stream",
     "name": "stderr",
     "text": [
      "[varname.utils] DEBUG: Ignored by <IgnoreModule('varname')> [In 'varname' at /home/pwwang/github/python-varname/varname/core.py:80]\n[varname.utils] DEBUG: Ignored by <IgnoreModule('module_all_calls')> [In 'func' at /home/pwwang/github/python-varname/playground/module_all_calls.py:6]\n[varname.utils] DEBUG: Ignored by <IgnoreModule('module_all_calls')> [In 'func2' at /home/pwwang/github/python-varname/playground/module_all_calls.py:9]\n[varname.utils] DEBUG: Ignored by <IgnoreModule('module_all_calls')> [In 'func3' at /home/pwwang/github/python-varname/playground/module_all_calls.py:12]\n[varname.utils] DEBUG: Skipping (0 more to skip) [In 'func' at <ipython-input-35-8d0a7ff1a188>:4]\n[varname.utils] DEBUG: Gotcha! [In '<module>' at <ipython-input-35-8d0a7ff1a188>:7]\n"
     ]
    },
    {
     "output_type": "execute_result",
     "data": {
      "text/plain": [
       "'f'"
      ]
     },
     "metadata": {},
     "execution_count": 35
    }
   ],
   "source": [
    "import module_all_calls\n",
    "\n",
    "def func():\n",
    "    return module_all_calls.func3()\n",
    "\n",
    "with enable_debug():\n",
    "    f = func()\n",
    "\n",
    "f"
   ]
  },
  {
   "source": [
    "Ignore some calls using module and a glob-style qualname"
   ],
   "cell_type": "markdown",
   "metadata": {}
  },
  {
   "cell_type": "code",
   "execution_count": 36,
   "metadata": {},
   "outputs": [
    {
     "output_type": "stream",
     "name": "stderr",
     "text": [
      "[varname.utils] DEBUG: Ignored by <IgnoreModule('varname')> [In 'varname' at /home/pwwang/github/python-varname/varname/core.py:80]\n[varname.utils] DEBUG: Ignored by <IgnoreModuleQualname('module_glob_qualname', _func*)> [In '_func' at /home/pwwang/github/python-varname/playground/module_glob_qualname.py:6]\n[varname.utils] DEBUG: Ignored by <IgnoreModuleQualname('module_glob_qualname', _func*)> [In '_func2' at /home/pwwang/github/python-varname/playground/module_glob_qualname.py:9]\n[varname.utils] DEBUG: Skipping (0 more to skip) [In 'func3' at /home/pwwang/github/python-varname/playground/module_glob_qualname.py:12]\n[varname.utils] DEBUG: Gotcha! [In '<module>' at <ipython-input-36-07ea87f561cc>:4]\n"
     ]
    },
    {
     "output_type": "execute_result",
     "data": {
      "text/plain": [
       "'f'"
      ]
     },
     "metadata": {},
     "execution_count": 36
    }
   ],
   "source": [
    "import module_glob_qualname\n",
    "\n",
    "with enable_debug():\n",
    "    f = module_glob_qualname.func3()\n",
    "\n",
    "f"
   ]
  },
  {
   "source": [
    "Note that when using an exact qualname, it has to be unique in the module"
   ],
   "cell_type": "markdown",
   "metadata": {}
  },
  {
   "cell_type": "code",
   "execution_count": 37,
   "metadata": {},
   "outputs": [
    {
     "output_type": "stream",
     "name": "stdout",
     "text": [
      "QualnameNonUniqueError(Qualname 'func' in 'module_dual_qualnames' refers to multiple objects.) raised!\n"
     ]
    }
   ],
   "source": [
    "import module_dual_qualnames\n",
    "\n",
    "with expect_raising(QualnameNonUniqueError):\n",
    "    f = module_dual_qualnames.func3()"
   ]
  },
  {
   "source": [
    "`lambda` functions are automatically ignored"
   ],
   "cell_type": "markdown",
   "metadata": {}
  },
  {
   "cell_type": "code",
   "execution_count": 38,
   "metadata": {},
   "outputs": [
    {
     "output_type": "stream",
     "name": "stderr",
     "text": [
      "[varname.utils] DEBUG: Ignored by <IgnoreModule('varname')> [In 'varname' at /home/pwwang/github/python-varname/varname/core.py:80]\n[varname.utils] DEBUG: Skipping (0 more to skip) [In 'func' at <ipython-input-38-d27bbc23b8df>:2]\n[varname.utils] DEBUG: Ignored by <IgnoreOnlyQualname('*<lambda>')> [In '<lambda>' at <ipython-input-38-d27bbc23b8df>:4]\n[varname.utils] DEBUG: Gotcha! [In '<module>' at <ipython-input-38-d27bbc23b8df>:7]\n"
     ]
    },
    {
     "output_type": "execute_result",
     "data": {
      "text/plain": [
       "'f'"
      ]
     },
     "metadata": {},
     "execution_count": 38
    }
   ],
   "source": [
    "def func():\n",
    "    return varname()\n",
    "\n",
    "func2 = lambda: func()\n",
    "\n",
    "with enable_debug():\n",
    "    f = func2()\n",
    "f"
   ]
  },
  {
   "source": [
    "Calls from standard libraries are automatically ignored"
   ],
   "cell_type": "markdown",
   "metadata": {}
  },
  {
   "cell_type": "code",
   "execution_count": 39,
   "metadata": {},
   "outputs": [
    {
     "output_type": "stream",
     "name": "stderr",
     "text": [
      "[varname.utils] DEBUG: Ignored by <IgnoreModule('varname')> [In 'varname' at /home/pwwang/github/python-varname/varname/core.py:80]\n[varname.utils] DEBUG: Skipping (0 more to skip) [In '__init__' at <ipython-input-39-833ae7542d7b>:9]\n[varname.utils] DEBUG: Ignored by <IgnoreDirname('/home/pwwang/miniconda3/lib/python3.7/')> [In '__call__' at /home/pwwang/miniconda3/lib/python3.7/typing.py:678]\n[varname.utils] DEBUG: Gotcha! [In '<module>' at <ipython-input-39-833ae7542d7b>:12]\n"
     ]
    },
    {
     "output_type": "execute_result",
     "data": {
      "text/plain": [
       "'foo'"
      ]
     },
     "metadata": {},
     "execution_count": 39
    }
   ],
   "source": [
    "import typing\n",
    "from typing import Generic, TypeVar\n",
    "\n",
    "T = TypeVar(\"T\")\n",
    "\n",
    "class Foo(Generic[T]):\n",
    "    def __init__(self):\n",
    "        # Standard libraries are ignored by default now (0.6.0)\n",
    "        self.id = varname()\n",
    "\n",
    "with enable_debug():\n",
    "    foo:Foo = Foo[str]()\n",
    "\n",
    "foo.id\n"
   ]
  },
  {
   "source": [
    "Filename can also be used instead of the module itself"
   ],
   "cell_type": "markdown",
   "metadata": {}
  },
  {
   "cell_type": "code",
   "execution_count": 40,
   "metadata": {},
   "outputs": [
    {
     "output_type": "execute_result",
     "data": {
      "text/plain": [
       "'f'"
      ]
     },
     "metadata": {},
     "execution_count": 40
    }
   ],
   "source": [
    "source = '''\n",
    "def foo(): \n",
    "    return bar()\n",
    "'''\n",
    "\n",
    "code = compile(source, '<string>', 'exec')\n",
    "\n",
    "def bar():\n",
    "    return varname(ignore='<string>')\n",
    "    # can also be used together with qualname\n",
    "    # return varname(ignore=('<string>', 'bar'))\n",
    "\n",
    "globs = {'bar': bar}\n",
    "exec(code, globs)\n",
    "\n",
    "foo = globs['foo']\n",
    "\n",
    "f = foo()\n",
    "f"
   ]
  },
  {
   "source": [
    "### Mixed use of `frame` and `ignore`"
   ],
   "cell_type": "markdown",
   "metadata": {}
  },
  {
   "cell_type": "code",
   "execution_count": 41,
   "metadata": {},
   "outputs": [
    {
     "output_type": "stream",
     "name": "stderr",
     "text": [
      "[varname.utils] DEBUG: Ignored by <IgnoreModule('varname')> [In 'varname' at /home/pwwang/github/python-varname/varname/core.py:80]\n[varname.utils] DEBUG: Ignored by <IgnoreDecorated(wrapper, 2)> [In 'func' at <ipython-input-41-e7a4675a5e8e>:4]\n[varname.utils] DEBUG: Skipping (1 more to skip) [In 'wrapper' at <ipython-input-41-e7a4675a5e8e>:9]\n[varname.utils] DEBUG: Skipping (0 more to skip) [In 'func3' at <ipython-input-41-e7a4675a5e8e>:18]\n[varname.utils] DEBUG: Gotcha! [In '<module>' at <ipython-input-41-e7a4675a5e8e>:21]\n"
     ]
    },
    {
     "output_type": "execute_result",
     "data": {
      "text/plain": [
       "'f'"
      ]
     },
     "metadata": {},
     "execution_count": 41
    }
   ],
   "source": [
    "def func():\n",
    "    return varname(\n",
    "        frame=2, # skip func3\n",
    "        ignore=(func2, 2) # ignore func2 and its decorators\n",
    "    )\n",
    "\n",
    "def decor(f):\n",
    "    def wrapper():\n",
    "        return f()\n",
    "    return wrapper\n",
    "\n",
    "@decor\n",
    "@decor\n",
    "def func2():\n",
    "    return func()\n",
    "\n",
    "def func3():\n",
    "    return func2()\n",
    "\n",
    "with enable_debug():\n",
    "    f = func3()\n",
    "f"
   ]
  },
  {
   "source": [
    "### Multiple variables assigned on left-hand side"
   ],
   "cell_type": "markdown",
   "metadata": {}
  },
  {
   "cell_type": "code",
   "execution_count": 42,
   "metadata": {},
   "outputs": [
    {
     "output_type": "stream",
     "name": "stdout",
     "text": [
      "1 (a, b) = ('a', 'b')\n2 (a, b) = ('a', 'b')\n3 a = ('a',)\n4 (a, b, c) = ('a', 'b', 'c')\n5 (a, b, x.c) = ('a', 'b', 'c')\nVarnameRetrievingError(Can only get name of a variable or attribute, not Starred(value=Name(id='b', ctx=Store()), ctx=Store())) raised!\n"
     ]
    }
   ],
   "source": [
    "def function():\n",
    "    return varname(multi_vars=True)\n",
    "\n",
    "a, b = function()\n",
    "print(1, '(a, b) =', (a, b))\n",
    "\n",
    "[a, b] = function()\n",
    "print(2, '(a, b) =', (a, b))\n",
    "\n",
    "a = function()\n",
    "print(3, 'a =', a)\n",
    "\n",
    "# hierarchy\n",
    "a, (b, c) = function()\n",
    "print(4, '(a, b, c) =', (a, b, c))\n",
    "\n",
    "# with attributes\n",
    "x = lambda: 1\n",
    "a, (b, x.c) = function()\n",
    "print(5, '(a, b, x.c) =', (a, b, x.c))\n",
    "\n",
    "with expect_raising(VarnameRetrievingError):\n",
    "    a, *b = function()"
   ]
  },
  {
   "source": [
    "### Argument `raise_exc`"
   ],
   "cell_type": "markdown",
   "metadata": {}
  },
  {
   "cell_type": "code",
   "execution_count": 43,
   "metadata": {},
   "outputs": [
    {
     "output_type": "stream",
     "name": "stdout",
     "text": [
      "VarnameRetrievingError(Failed to retrieve the variable name.) raised!\n"
     ]
    },
    {
     "output_type": "execute_result",
     "data": {
      "text/plain": [
       "'None'"
      ]
     },
     "metadata": {},
     "execution_count": 43
    }
   ],
   "source": [
    "def func_raise():\n",
    "    return varname(raise_exc=True) # default\n",
    "\n",
    "def func_silent():\n",
    "    return varname(raise_exc=False) # will return None if failed\n",
    "\n",
    "with expect_raising(VarnameRetrievingError):\n",
    "    func_raise() # no variable assigned\n",
    "\n",
    "f = ''\n",
    "f += str(func_silent())\n",
    "f "
   ]
  },
  {
   "source": [
    "### Multiple targets in assignment"
   ],
   "cell_type": "markdown",
   "metadata": {}
  },
  {
   "cell_type": "code",
   "execution_count": 44,
   "metadata": {},
   "outputs": [
    {
     "output_type": "stream",
     "name": "stdout",
     "text": [
      "f1 = 'f1', f2 = 'f1'\n"
     ]
    }
   ],
   "source": [
    "def func():\n",
    "    return varname()\n",
    "\n",
    "f1 = f2 = func()\n",
    "print(f'f1 = {f1!r}, f2 = {f2!r}')"
   ]
  },
  {
   "source": [
    "## Use of `nameof`"
   ],
   "cell_type": "markdown",
   "metadata": {}
  },
  {
   "cell_type": "code",
   "execution_count": 45,
   "metadata": {},
   "outputs": [
    {
     "output_type": "execute_result",
     "data": {
      "text/plain": [
       "'x'"
      ]
     },
     "metadata": {},
     "execution_count": 45
    }
   ],
   "source": [
    "x = lambda: None\n",
    "nameof(x)"
   ]
  },
  {
   "source": [
    "Get full name of a chain of attributes"
   ],
   "cell_type": "markdown",
   "metadata": {}
  },
  {
   "cell_type": "code",
   "execution_count": 46,
   "metadata": {},
   "outputs": [
    {
     "output_type": "stream",
     "name": "stdout",
     "text": [
      "x.a\nx.a.b\n('x.a', 'x.a.b')\n"
     ]
    }
   ],
   "source": [
    "x.a = x\n",
    "x.a.b = x\n",
    "\n",
    "print(nameof(x.a, full=True))\n",
    "print(nameof(x.a.b, full=True))\n",
    "print(nameof(x.a, x.a.b, full=True))"
   ]
  },
  {
   "source": [
    "If you want to wrap `nameof`"
   ],
   "cell_type": "markdown",
   "metadata": {}
  },
  {
   "cell_type": "code",
   "execution_count": 47,
   "metadata": {},
   "outputs": [
    {
     "output_type": "execute_result",
     "data": {
      "text/plain": [
       "'x'"
      ]
     },
     "metadata": {},
     "execution_count": 47
    }
   ],
   "source": [
    "def nameof2(*args, **kwargs):\n",
    "    return nameof(*args, **kwargs)\n",
    "\n",
    "nameof2(x, frame=2)"
   ]
  },
  {
   "source": [
    "## Use of `will`"
   ],
   "cell_type": "markdown",
   "metadata": {}
  },
  {
   "cell_type": "code",
   "execution_count": 48,
   "metadata": {},
   "outputs": [
    {
     "output_type": "stream",
     "name": "stdout",
     "text": [
      "1\nAttributeError(Unable to access private attributes.) raised!\n"
     ]
    }
   ],
   "source": [
    "class Namespace:\n",
    "    public = 1\n",
    "    _private = 2\n",
    "\n",
    "def func():\n",
    "    w = will()\n",
    "    if w.startswith('_'):\n",
    "        raise AttributeError('Unable to access private attributes.')\n",
    "\n",
    "    return Namespace\n",
    "\n",
    "print(func().public)\n",
    "with expect_raising(AttributeError):\n",
    "    func()._private\n"
   ]
  },
  {
   "source": [
    "## Use of helper functions"
   ],
   "cell_type": "markdown",
   "metadata": {}
  },
  {
   "source": [
    "### User of `Wrapper`"
   ],
   "cell_type": "markdown",
   "metadata": {}
  },
  {
   "cell_type": "code",
   "execution_count": 52,
   "metadata": {},
   "outputs": [
    {
     "output_type": "stream",
     "name": "stdout",
     "text": [
      "<Wrapper (name='wrapped1', value=True)>\n<Wrapper (name='wrapped2', value={'a': 1})>\nTrue\nTrue\n"
     ]
    }
   ],
   "source": [
    "value1 = True\n",
    "value2 = {'a': 1}\n",
    "\n",
    "wrapped1 = Wrapper(True)\n",
    "wrapped2 = Wrapper(value2)\n",
    "\n",
    "print(repr(wrapped1))\n",
    "print(repr(wrapped2))\n",
    "\n",
    "print(wrapped1.value is value1)\n",
    "print(wrapped2.value is value2)"
   ]
  },
  {
   "source": [
    "You can wrap `Wrapper`:"
   ],
   "cell_type": "markdown",
   "metadata": {}
  },
  {
   "cell_type": "code",
   "execution_count": 53,
   "metadata": {},
   "outputs": [
    {
     "output_type": "stream",
     "name": "stdout",
     "text": [
      "<Wrapper (name='wrapped3', value=True)>\n<Wrapper (name='wrapped4', value={'a': 1})>\nTrue\nTrue\n"
     ]
    }
   ],
   "source": [
    "def wrap(value):\n",
    "    return Wrapper(value, frame=2)\n",
    "\n",
    "wrapped3 = wrap(value1)\n",
    "wrapped4 = wrap(value2)\n",
    "\n",
    "print(repr(wrapped3))\n",
    "print(repr(wrapped4))\n",
    "\n",
    "print(wrapped3.value is value1)\n",
    "print(wrapped4.value is value2)"
   ]
  },
  {
   "source": [
    "### Use of `register`"
   ],
   "cell_type": "markdown",
   "metadata": {}
  },
  {
   "source": [
    "Register `__varname__` to function"
   ],
   "cell_type": "markdown",
   "metadata": {}
  },
  {
   "cell_type": "code",
   "execution_count": 54,
   "metadata": {},
   "outputs": [
    {
     "output_type": "execute_result",
     "data": {
      "text/plain": [
       "'f'"
      ]
     },
     "metadata": {},
     "execution_count": 54
    }
   ],
   "source": [
    "@register\n",
    "def func():\n",
    "    return __varname__\n",
    "\n",
    "f = func()\n",
    "f"
   ]
  },
  {
   "source": [
    "Register `__varname__` to class"
   ],
   "cell_type": "markdown",
   "metadata": {}
  },
  {
   "cell_type": "code",
   "execution_count": 55,
   "metadata": {},
   "outputs": [
    {
     "output_type": "execute_result",
     "data": {
      "text/plain": [
       "'foo'"
      ]
     },
     "metadata": {},
     "execution_count": 55
    }
   ],
   "source": [
    "@register\n",
    "class Foo:\n",
    "    pass\n",
    "\n",
    "foo = Foo()\n",
    "foo.__varname__"
   ]
  },
  {
   "source": [
    "### Use of `debug`"
   ],
   "cell_type": "markdown",
   "metadata": {}
  },
  {
   "cell_type": "code",
   "execution_count": 63,
   "metadata": {},
   "outputs": [
    {
     "output_type": "stream",
     "name": "stdout",
     "text": [
      "DEBUG: a='1'\nDEBUG: b='2'\nDEBUG: a='1'\nDEBUG: b='2'\nDEBUG: a='1', b='2'\nDEBUG: a=1, b=2\nDEBUG VARS: a='1', b='2'\n"
     ]
    }
   ],
   "source": [
    "a = '1'\n",
    "b = '2'\n",
    "debug(a)\n",
    "debug(b)\n",
    "debug(a, b)\n",
    "debug(a, b, merge=True)\n",
    "debug(a, b, merge=True, repr=False)\n",
    "debug(a, b, merge=True, prefix='DEBUG VARS: ')\n"
   ]
  }
 ],
 "metadata": {
  "kernelspec": {
   "display_name": "Python 3",
   "language": "python",
   "name": "python3"
  },
  "language_info": {
   "codemirror_mode": {
    "name": "ipython",
    "version": 3
   },
   "file_extension": ".py",
   "mimetype": "text/x-python",
   "name": "python",
   "nbconvert_exporter": "python",
   "pygments_lexer": "ipython3",
   "version": "3.7.8-final"
  },
  "orig_nbformat": 2
 },
 "nbformat": 4,
 "nbformat_minor": 2
}
